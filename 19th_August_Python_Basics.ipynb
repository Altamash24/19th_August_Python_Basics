{
 "cells": [
  {
   "cell_type": "code",
   "execution_count": 18,
   "id": "d31fa3ad-b2cf-42eb-9ef8-01c8beaa9d34",
   "metadata": {},
   "outputs": [],
   "source": [
    "# TOPIC: Python Basic Variable"
   ]
  },
  {
   "cell_type": "code",
   "execution_count": 50,
   "id": "208a0c59-bed4-4d79-b4a4-762756acccbd",
   "metadata": {},
   "outputs": [
    {
     "name": "stdin",
     "output_type": "stream",
     "text": [
      "Enter any number for variable x: 10\n",
      "Enter any number for variable y: 12\n"
     ]
    },
    {
     "name": "stdout",
     "output_type": "stream",
     "text": [
      "Before swapping: x = 10 and y = 12\n",
      "After swapping: x = 12 and y = 10\n"
     ]
    }
   ],
   "source": [
    "''' 1. Declare two variables, `x` and `y`, and assign them integer values. Swap the values of these variables without using any temporary variable.'''\n",
    "\n",
    "# Program to swap two variables\n",
    "x = int(input(\"Enter any number for variable x:\")) # Input variable x\n",
    "y = int(input(\"Enter any number for variable y:\")) # Input variable y\n",
    "print(\"Before swapping: x =\",x,\"and y =\",y) # Printing value of variables before swapping\n",
    "x,y = y,x # Swapping of variables\n",
    "print(\"After swapping: x =\",x,\"and y =\",y) # Printing value of variables before swapping"
   ]
  },
  {
   "cell_type": "code",
   "execution_count": 51,
   "id": "2a86838c-1c25-4008-9128-8f532d96b51a",
   "metadata": {
    "tags": []
   },
   "outputs": [
    {
     "name": "stdin",
     "output_type": "stream",
     "text": [
      "Enter length of the rectangle: 10\n",
      "Enter width of the rectangle: 1.5\n"
     ]
    },
    {
     "name": "stdout",
     "output_type": "stream",
     "text": [
      "Area ofthe rectangle with length 10.0 and width 1.5 is equal to 15.0 square units\n"
     ]
    }
   ],
   "source": [
    "''' 2. Create a program that calculates the area of a rectangle. Take the length and width as inputs from the user and store them in variables.\n",
    "       Calculate and display the area.'''\n",
    "\n",
    "# Program to find area of a rectangle\n",
    "l = float(input(\"Enter length of the rectangle:\")) # Input of length l\n",
    "w = float(input(\"Enter width of the rectangle:\")) # Input of width w\n",
    "Area = l*w # Calculation of area\n",
    "print(\"Area ofthe rectangle with length\",l,\"and width\",w,\"is equal to\",Area,\"square units\") # Printing value of area"
   ]
  },
  {
   "cell_type": "code",
   "execution_count": 52,
   "id": "06925b3c-11a6-401e-ba26-1c39170ae1ff",
   "metadata": {},
   "outputs": [
    {
     "name": "stdin",
     "output_type": "stream",
     "text": [
      "Enter the temperature in degree Celsius: 38\n"
     ]
    },
    {
     "name": "stdout",
     "output_type": "stream",
     "text": [
      "The temperature 38.0 degree Celcius is equivalent to 100.4 degree Fahrenheit\n"
     ]
    }
   ],
   "source": [
    "''' 3. Write a Python program that converts temperatures from Celsius to Fahrenheit. Take the temperature in Celsius as input, store it in a\n",
    "variable, convert it to Fahrenheit, and display the result.'''\n",
    "\n",
    "# Program to convert Celsius to Fahrenheit\n",
    "c = float(input(\"Enter the temperature in degree Celsius:\")) # Input of temperature in Celsius\n",
    "f = ((9/5)*c)+32 # Coversion of temperature in Celsius to Fahrenheit\n",
    "print(\"The temperature\",c,\"degree Celcius is equivalent to\",f,\"degree Fahrenheit\") # Printing of temperature in Fahrenheit"
   ]
  },
  {
   "cell_type": "code",
   "execution_count": 22,
   "id": "1668f3df-191e-40cc-964f-a53d86af0062",
   "metadata": {},
   "outputs": [],
   "source": [
    "# TOPIC: String Based Questions"
   ]
  },
  {
   "cell_type": "code",
   "execution_count": 53,
   "id": "1c74d195-7922-43af-aef7-854e9294b929",
   "metadata": {},
   "outputs": [
    {
     "name": "stdin",
     "output_type": "stream",
     "text": [
      "Enter any string: PWSKILLS\n"
     ]
    },
    {
     "name": "stdout",
     "output_type": "stream",
     "text": [
      "The length of the string \" PWSKILLS \" is 8\n"
     ]
    }
   ],
   "source": [
    "''' 1. Write a Python program that takes a string as input and prints the length of the string.'''\n",
    "\n",
    "# Program to print length of the string\n",
    "s = input(\"Enter any string:\") # Input any string\n",
    "b = len(s) # Calculation of length of input string\n",
    "print('The length of the string \"',s,'\" is',b) # Printing the length of input string"
   ]
  },
  {
   "cell_type": "code",
   "execution_count": 54,
   "id": "b41a85e6-78b7-4341-96ee-b0a0e3b9d663",
   "metadata": {},
   "outputs": [
    {
     "name": "stdin",
     "output_type": "stream",
     "text": [
      "Enter any string: This is a program to count the number of vowels\n"
     ]
    },
    {
     "name": "stdout",
     "output_type": "stream",
     "text": [
      "The number of vowels in the given sentence \" This is a program to count the number of vowels \" is 14\n"
     ]
    }
   ],
   "source": [
    "''' 2. Create a program that takes a sentence from the user and counts the number of vowels (a, e, i, o, u) in the string.'''\n",
    "\n",
    "# Program to count the number of vowels in the sentence\n",
    "s = input(\"Enter any string:\") # Input any string\n",
    "v = 0 # Initialize vowel count to zero\n",
    "for char in s: # Running for loop to check for vowels in the input string\n",
    "    if char in \"aeiouAEIOU\": # Condition to check for vowel\n",
    "        v += 1 # Increment of vowel count if the condition satisfies\n",
    "print('The number of vowels in the given sentence \"',s,'\" is',v) # Printing of vowel count"
   ]
  },
  {
   "cell_type": "code",
   "execution_count": 55,
   "id": "b1b79bde-2531-404b-9a95-8cc0c9076e88",
   "metadata": {},
   "outputs": [
    {
     "name": "stdin",
     "output_type": "stream",
     "text": [
      "Enter any string: My name is Abc\n"
     ]
    },
    {
     "name": "stdout",
     "output_type": "stream",
     "text": [
      "The reversed form of the given string is \" cbA si eman yM \"\n"
     ]
    }
   ],
   "source": [
    "''' 3. Given a string, reverse the order of characters using string slicing and print the reversed string.'''\n",
    "\n",
    "# Program to reverse the order of the string\n",
    "s = input(\"Enter any string:\") # Input any string\n",
    "r = s[::-1] # Reversing of the input string\n",
    "print('The reversed form of the given string is \"',r,'\"') # Printing the reverse of the input string"
   ]
  },
  {
   "cell_type": "code",
   "execution_count": 56,
   "id": "95873df7-ec87-4cd2-a69b-d2b92a25edfd",
   "metadata": {},
   "outputs": [
    {
     "name": "stdin",
     "output_type": "stream",
     "text": [
      "Enter any string: MADAM\n"
     ]
    },
    {
     "name": "stdout",
     "output_type": "stream",
     "text": [
      "The given string \" MADAM \" is a palindrome\n"
     ]
    }
   ],
   "source": [
    "''' 4. Write a program that takes a string as input and checks if it is a palindrome (reads the same forwards and backwards).'''\n",
    "\n",
    "# Program to check if the string is a palindrome\n",
    "p = input(\"Enter any string:\") # Input any string\n",
    "r = p[::-1] # Reversing of the input string\n",
    "if r == p: # If condition to check if the reverse is same as the input string\n",
    "    print('The given string \"',p,'\" is a palindrome') # Printing it as a palindrome if the condition satisfies\n",
    "else:\n",
    "    print('The given string \"',p,'\" is not a palindrome') # Printing it as not a palindrome if the condition does not satisfy"
   ]
  },
  {
   "cell_type": "code",
   "execution_count": 60,
   "id": "b594bb72-c11c-4ce5-aee8-0cb99cbeb54e",
   "metadata": {},
   "outputs": [
    {
     "name": "stdin",
     "output_type": "stream",
     "text": [
      "Enter any string: My name is Abc\n"
     ]
    },
    {
     "name": "stdout",
     "output_type": "stream",
     "text": [
      "Modified string without spaces: MynameisAbc\n"
     ]
    }
   ],
   "source": [
    "''' 5. Create a program that takes a string as input and removes all the spaces from it. Print the modified string without spaces.'''\n",
    "\n",
    "# Program to print the string without spaces\n",
    "s = input(\"Enter any string:\") # Input any string\n",
    "m = \"\" # Initialize m variable to be blank\n",
    "for char in s: # Running for loop to check for spaces in the input string\n",
    "    if char != \" \": # Condition to check if there is no space\n",
    "        m += char # Increment of character if the condition satisfies\n",
    "print(\"Modified string without spaces:\", m) # Printing of string without spaces"
   ]
  },
  {
   "cell_type": "code",
   "execution_count": null,
   "id": "e4644e7b-61b1-450a-8940-578f51a23e34",
   "metadata": {},
   "outputs": [],
   "source": []
  }
 ],
 "metadata": {
  "kernelspec": {
   "display_name": "Python 3 (ipykernel)",
   "language": "python",
   "name": "python3"
  },
  "language_info": {
   "codemirror_mode": {
    "name": "ipython",
    "version": 3
   },
   "file_extension": ".py",
   "mimetype": "text/x-python",
   "name": "python",
   "nbconvert_exporter": "python",
   "pygments_lexer": "ipython3",
   "version": "3.10.8"
  }
 },
 "nbformat": 4,
 "nbformat_minor": 5
}
